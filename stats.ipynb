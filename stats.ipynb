{
 "cells": [
  {
   "cell_type": "code",
   "execution_count": 11,
   "id": "904c1c7a",
   "metadata": {},
   "outputs": [],
   "source": [
    "import pandas as pd\n",
    "import ast\n",
    "from sklearn.model_selection import train_test_split\n",
    "from sklearn.metrics import hamming_loss\n",
    "from sklearn.metrics import ConfusionMatrixDisplay, matthews_corrcoef, f1_score\n",
    "import jsonlines\n",
    "import json\n",
    "import logging\n",
    "from sklearn.preprocessing import MultiLabelBinarizer\n",
    "import os\n",
    "from sklearn.feature_extraction.text import CountVectorizer, TfidfVectorizer\n",
    "import matplotlib.pyplot as plt\n"
   ]
  },
  {
   "cell_type": "code",
   "execution_count": null,
   "id": "1deb6cf4",
   "metadata": {},
   "outputs": [],
   "source": []
  },
  {
   "cell_type": "markdown",
   "id": "0b3e09a5",
   "metadata": {},
   "source": [
    "## Preprocess\n",
    "\n",
    "The first step of proeprocessing includes:\n",
    "\n",
    "* grouping tags per Id\n",
    "* select top_common_tags\n",
    "* join questions with list of tags\n",
    "* include questions that have at least score >= min_question_score. In that sense, we only take questions that most likely there would relevant context to tags\n",
    "* sample max_num_questions\n",
    "\n",
    "Next we parse body html creating two type of parsed text:\n",
    "* Body_with_code: cleaned from elements, including code as text\n",
    "* Body_no_code: cleaned from elements, excluding code\n",
    "\n",
    "Next we sanitize title & Body_no_code text, creating Title_clean & Body_clean_no_code:\n",
    "* Lower case\n",
    "* Remove special characters, puctuation and stop word\n",
    "* Lemmatizing words\n",
    "\n",
    "Finally we merge:\n",
    "* Title_clean & Body_clean_no_code, creating text_clean to feed baseline model\n",
    "* Title & Body_with_code, creating text_with_code to feed CodeBert model\n",
    "\n",
    "Outcome is the following processed dataset\n"
   ]
  },
  {
   "cell_type": "code",
   "execution_count": 7,
   "id": "e776ae7a",
   "metadata": {},
   "outputs": [],
   "source": [
    "df = pd.read_csv('data/data.csv', encoding='latin-1')"
   ]
  },
  {
   "cell_type": "code",
   "execution_count": 8,
   "id": "e0d2a3b7",
   "metadata": {},
   "outputs": [
    {
     "name": "stdout",
     "output_type": "stream",
     "text": [
      "['c#']\n",
      "--------------------------------------------------------------------------------\n",
      "The Calling thread cannot access this object because a different thread owns it,WPF\n",
      "--------------------------------------------------------------------------------\n",
      "<p>I have a hardware which is connected through socket,</p>\n",
      "\n",
      "<p>now i have to check that hardware is connected or not at every 5 seconds which is shown by a checkbox</p>\n",
      "\n",
      "<p>i have implemented a function :</p>\n",
      "\n",
      "<pre><code>private static System.Timers.Timer aTimer;\n",
      "public MainWindow()\n",
      "{\n",
      "    InitializeComponent();\n",
      "    client.BeginConnect(remoteEP, new AsyncCallback(ConnectCallback), client);\n",
      "    aTimer = new System.Timers.Timer();\n",
      "    aTimer.AutoReset = true;\n",
      "    aTimer.Elapsed += new ElapsedEventHandler(OnTimedEvent);\n",
      "\n",
      "    aTimer.Interval = 2000;\n",
      "    aTimer.Enabled = true;\n",
      "}\n",
      "\n",
      "private void OnTimedEvent(object source, ElapsedEventArgs e)\n",
      "{\n",
      "    if (client.Connected == true)\n",
      "    {\n",
      "        Console.WriteLine(\"Not Connected\");\n",
      "        CheckBox.IsChecked = false;\n",
      "    }\n",
      "    else\n",
      "    {\n",
      "        Console.WriteLine(\"Connected\");\n",
      "        CheckBox.IsChecked = false;\n",
      "    }\n",
      "}\n",
      "</code></pre>\n",
      "\n",
      "<p>But when i am running the application it is throwing error .</p>\n",
      "\n",
      "<p><strong>The calling thread cannot access this object because a different thread owns it.</strong></p>\n",
      "\n",
      "<p>I researched and learned about <strong>Dispatcher.Invoke</strong> but not been able to implement that in my code.</p>\n",
      "\n",
      "--------------------------------------------------------------------------------\n",
      "calling thread can not access object different thread owns itwpf hardware connected socket check hardware connected every 5 second shown checkbox implemented function running application throwing error calling thread can not access object different thread owns researched learned dispatcherinvoke able implement code\n",
      "--------------------------------------------------------------------------------\n",
      "The Calling thread cannot access this object because a different thread owns it,WPF I have a hardware which is connected through socket, now i have to check that hardware is connected or not at every 5 seconds which is shown by a checkbox i have implemented a function : private static System.Timers.Timer aTimer; public MainWindow() { InitializeComponent(); client.BeginConnect(remoteEP, new AsyncCallback(ConnectCallback), client); aTimer = new System.Timers.Timer(); aTimer.AutoReset = true; aTimer.Elapsed += new ElapsedEventHandler(OnTimedEvent); aTimer.Interval = 2000; aTimer.Enabled = true; } private void OnTimedEvent(object source, ElapsedEventArgs e) { if (client.Connected == true) { Console.WriteLine(\"Not Connected\"); CheckBox.IsChecked = false; } else { Console.WriteLine(\"Connected\"); CheckBox.IsChecked = false; } } But when i am running the application it is throwing error . The calling thread cannot access this object because a different thread owns it. I researched and learned about Dispatcher.Invoke but not been able to implement that in my code.\n"
     ]
    }
   ],
   "source": [
    "i = 17\n",
    "lines_sep = 80 * '-'\n",
    "print(df.iloc[i]['Tag'])\n",
    "print(lines_sep)\n",
    "print(df.iloc[i]['Title'])\n",
    "print(lines_sep)\n",
    "print(df.iloc[i]['Body'])\n",
    "print(lines_sep)\n",
    "print(df.iloc[i]['text_clean'])\n",
    "print(lines_sep)\n",
    "print(df.iloc[i]['text_with_code'])"
   ]
  },
  {
   "cell_type": "code",
   "execution_count": 9,
   "id": "ff0c9acf",
   "metadata": {},
   "outputs": [],
   "source": [
    "df[\"Tag\"] = df[\"Tag\"].apply(ast.literal_eval)\n",
    "df['labels_len'] = df[\"Tag\"].apply(len)\n",
    "all_labels = []\n",
    "for i in range(len(df)):\n",
    "    all_labels += df.iloc[i]['Tag']"
   ]
  },
  {
   "cell_type": "code",
   "execution_count": 14,
   "id": "2124c60c",
   "metadata": {},
   "outputs": [
    {
     "data": {
      "image/png": "[encoded data removed]",
      "text/plain": [
       "<Figure size 640x480 with 1 Axes>"
      ]
     },
     "metadata": {},
     "output_type": "display_data"
    }
   ],
   "source": [
    "df['labels_len'].value_counts(ascending=True).plot.barh()\n",
    "plt.title('Amount of Tags Distribution')\n",
    "plt.show()# HD Plots"
   ]
  },
  {
   "cell_type": "code",
   "execution_count": 12,
   "id": "4f1d1531",
   "metadata": {},
   "outputs": [
    {
     "data": {
      "image/png": "[encoded data removed]",
      "text/plain": [
       "<Figure size 640x480 with 1 Axes>"
      ]
     },
     "metadata": {},
     "output_type": "display_data"
    }
   ],
   "source": [
    "all_labels = []\n",
    "for i in range(len(df)):\n",
    "    all_labels += list(df.iloc[i]['Tag'])\n",
    "pd.Series(all_labels).value_counts(ascending=True).plot.barh()\n",
    "plt.title('Tag Distribution')\n",
    "plt.show()# HD Plots"
   ]
  },
  {
   "cell_type": "markdown",
   "id": "a63f4138",
   "metadata": {},
   "source": [
    "### Enhancements\n",
    "\n",
    "* impove text sanitization. Test different combinations, stemming etc\n",
    "* Deal with imbalance problem. Undersample majority classes, or augment minority classes by shuffling sentences etc\n",
    "* Equilibrium between top_common_tags, max_num_questions and resources to spend"
   ]
  },
  {
   "cell_type": "code",
   "execution_count": null,
   "id": "f63f898c",
   "metadata": {},
   "outputs": [],
   "source": []
  }
 ],
 "metadata": {
  "kernelspec": {
   "display_name": "Python 3 (ipykernel)",
   "language": "python",
   "name": "python3"
  },
  "language_info": {
   "codemirror_mode": {
    "name": "ipython",
    "version": 3
   },
   "file_extension": ".py",
   "mimetype": "text/x-python",
   "name": "python",
   "nbconvert_exporter": "python",
   "pygments_lexer": "ipython3",
   "version": "3.9.13"
  }
 },
 "nbformat": 4,
 "nbformat_minor": 5
}
